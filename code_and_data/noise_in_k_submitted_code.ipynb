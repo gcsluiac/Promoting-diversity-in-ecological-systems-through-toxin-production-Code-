{
 "cells": [
  {
   "cell_type": "code",
   "execution_count": 1,
   "metadata": {
    "collapsed": true
   },
   "outputs": [],
   "source": [
    "import matplotlib.pyplot as plt\n",
    "import numpy as np\n",
    "from math import pi\n",
    "import random as rm\n",
    "from scipy.integrate import odeint, solve_ivp\n",
    "from math import sqrt\n",
    "from scipy.linalg import sqrtm"
   ]
  },
  {
   "cell_type": "code",
   "execution_count": 2,
   "metadata": {
    "collapsed": true
   },
   "outputs": [],
   "source": [
    "def survive_sp(abun,thres):\n",
    "    N=0\n",
    "    for i in abun:\n",
    "        if i > thres:\n",
    "            N += 1\n",
    "    return N\n",
    "\n",
    "\n",
    "def xdot(x_vec, t, K):\n",
    "    x1, x2, x3, x4, x5, n1, n2 = x_vec\n",
    "    g1 = rm/(K[0,0]/((1 - F1)*n1) + n2/K[0,1])\n",
    "    g2 = rm/(K[1,0]/n1 + n2/K[1,1])\n",
    "    g3 = rm/(K[2,0]/n1 + n2/K[2,1])\n",
    "    g4 = rm/(K[3,0]/n1 + n2/K[3,1])\n",
    "    g5 = rm/(K[4,0]/n1 + n2/K[4,1])\n",
    "    dydl = [(g1-F)*x1,(g2-F)*x2,(g3-F)*x3,(g4-F)*x4,(g5-F)*x5,(a1-n1)*F-g1*x1-g2*x2-g3*x3-g4*x4-g5*x5,(a2-n2)*F+(F1/(1-F1))*g1*x1]\n",
    "    return dydl\n",
    "\n",
    "def xdot_v2(x_vec, t, Kv, Ts):\n",
    "    x1, x2, x3, x4, x5, n1, n2 = x_vec\n",
    "    #ii = 0\n",
    "    #for tt in Ts[1:]:\n",
    "    #    if t < tt:\n",
    "    #        break\n",
    "    #    else:\n",
    "    #        ii=ii+1\n",
    "    K=Kv[np.where(Ts<=t)[0][-1]]\n",
    "    #K = Kv[ii]\n",
    "    g1 = rm/(K[0,0]/((1 - F1)*n1) + n2/K[0,1])\n",
    "    g2 = rm/(K[1,0]/n1 + n2/K[1,1])\n",
    "    g3 = rm/(K[2,0]/n1 + n2/K[2,1])\n",
    "    g4 = rm/(K[3,0]/n1 + n2/K[3,1])\n",
    "    g5 = rm/(K[4,0]/n1 + n2/K[4,1])\n",
    "    dydl = [(g1-F)*x1,(g2-F)*x2,(g3-F)*x3,(g4-F)*x4,(g5-F)*x5,(a1-n1)*F-g1*x1-g2*x2-g3*x3-g4*x4-g5*x5,(a2-n2)*F+(F1/(1-F1))*g1*x1]\n",
    "    return dydl\n",
    "\n",
    "\n",
    "def test(x_vec, t, N, T_s):\n",
    "    x1,x2 = x_vec\n",
    "    if t <T_s:\n",
    "        return N\n",
    "    else:\n",
    "        return N-N\n",
    "    \n",
    "\n",
    "def split(list_a, chunk_size):\n",
    "    for i in range(0, len(list_a), chunk_size):\n",
    "        if i != 0:\n",
    "            yield list_a[i-1:i + chunk_size]\n",
    "        else:\n",
    "            yield list_a[i:i + chunk_size]"
   ]
  },
  {
   "cell_type": "code",
   "execution_count": 3,
   "metadata": {
    "collapsed": true
   },
   "outputs": [],
   "source": [
    "#parameters\n",
    "rm = 1.2\n",
    "F=1.03\n",
    "C = 5\n",
    "C1 = C2 = C3 = C4 = C5 = C\n",
    "\n",
    "F1 = 0.1\n",
    "\n",
    "k11=0.1\n",
    "k21=0.6\n",
    "k31 = 0.7\n",
    "k41 = 0.8\n",
    "k51 = 0.9\n",
    "\n",
    "k12 = 1/(C1 - k11/(1 - F1))\n",
    "k22 = 1/(C2 - k21/(1))\n",
    "k32 = 1/(C3 - k31/(1))\n",
    "k42 = 1/(C4 - k41/(1))\n",
    "k52 = 1/(C5 - k51/(1))\n",
    "\n",
    "K = np.array([[k11,k12],[k21,k22],[k31,k32],[k41,k42],[k51,k52]])\n",
    "\n",
    "#apply constraint\n",
    "a1=14\n",
    "a2=0"
   ]
  },
  {
   "cell_type": "code",
   "execution_count": 15,
   "metadata": {},
   "outputs": [
    {
     "name": "stdout",
     "output_type": "stream",
     "text": [
      "0.01\n",
      "[2.00001333e+01 2.00001333e+02 2.00001333e+03 2.00001333e+04\n",
      " 2.00001333e+05] 20.000133333333334\n",
      "0\n",
      "1\n",
      "2\n",
      "3\n",
      "4\n",
      "5\n",
      "6\n",
      "7\n",
      "8\n",
      "9\n",
      "10\n",
      "11\n",
      "12\n",
      "13\n",
      "14\n",
      "15\n",
      "16\n",
      "17\n",
      "18\n",
      "19\n",
      "20\n",
      "21\n",
      "22\n",
      "23\n",
      "24\n",
      "25\n",
      "26\n",
      "27\n",
      "28\n",
      "29\n",
      "30\n",
      "31\n",
      "32\n",
      "33\n",
      "34\n",
      "35\n",
      "36\n"
     ]
    },
    {
     "ename": "KeyboardInterrupt",
     "evalue": "",
     "output_type": "error",
     "traceback": [
      "\u001b[0;31m---------------------------------------------------------------------------\u001b[0m",
      "\u001b[0;31mKeyboardInterrupt\u001b[0m                         Traceback (most recent call last)",
      "\u001b[0;32m<ipython-input-15-3882441c52b8>\u001b[0m in \u001b[0;36m<module>\u001b[0;34m()\u001b[0m\n\u001b[1;32m     39\u001b[0m \u001b[0;34m\u001b[0m\u001b[0m\n\u001b[1;32m     40\u001b[0m \u001b[0;34m\u001b[0m\u001b[0m\n\u001b[0;32m---> 41\u001b[0;31m                 \u001b[0msolution\u001b[0m\u001b[0;34m=\u001b[0m\u001b[0modeint\u001b[0m\u001b[0;34m(\u001b[0m\u001b[0mxdot_v2\u001b[0m\u001b[0;34m,\u001b[0m\u001b[0mx0\u001b[0m\u001b[0;34m,\u001b[0m \u001b[0mt\u001b[0m\u001b[0;34m,\u001b[0m \u001b[0margs\u001b[0m\u001b[0;34m=\u001b[0m\u001b[0;34m(\u001b[0m\u001b[0mK_vary\u001b[0m\u001b[0;34m,\u001b[0m\u001b[0mTime_slice\u001b[0m\u001b[0;34m)\u001b[0m\u001b[0;34m)\u001b[0m\u001b[0;34m\u001b[0m\u001b[0;34m\u001b[0m\u001b[0m\n\u001b[0m\u001b[1;32m     42\u001b[0m \u001b[0;34m\u001b[0m\u001b[0m\n\u001b[1;32m     43\u001b[0m                 \u001b[0;32mfor\u001b[0m \u001b[0mi\u001b[0m \u001b[0;32min\u001b[0m \u001b[0msolution\u001b[0m\u001b[0;34m:\u001b[0m\u001b[0;34m\u001b[0m\u001b[0;34m\u001b[0m\u001b[0m\n",
      "\u001b[0;32m~/.local/lib/python3.6/site-packages/scipy/integrate/odepack.py\u001b[0m in \u001b[0;36modeint\u001b[0;34m(func, y0, t, args, Dfun, col_deriv, full_output, ml, mu, rtol, atol, tcrit, h0, hmax, hmin, ixpr, mxstep, mxhnil, mxordn, mxords, printmessg, tfirst)\u001b[0m\n\u001b[1;32m    242\u001b[0m                              \u001b[0mfull_output\u001b[0m\u001b[0;34m,\u001b[0m \u001b[0mrtol\u001b[0m\u001b[0;34m,\u001b[0m \u001b[0matol\u001b[0m\u001b[0;34m,\u001b[0m \u001b[0mtcrit\u001b[0m\u001b[0;34m,\u001b[0m \u001b[0mh0\u001b[0m\u001b[0;34m,\u001b[0m \u001b[0mhmax\u001b[0m\u001b[0;34m,\u001b[0m \u001b[0mhmin\u001b[0m\u001b[0;34m,\u001b[0m\u001b[0;34m\u001b[0m\u001b[0;34m\u001b[0m\u001b[0m\n\u001b[1;32m    243\u001b[0m                              \u001b[0mixpr\u001b[0m\u001b[0;34m,\u001b[0m \u001b[0mmxstep\u001b[0m\u001b[0;34m,\u001b[0m \u001b[0mmxhnil\u001b[0m\u001b[0;34m,\u001b[0m \u001b[0mmxordn\u001b[0m\u001b[0;34m,\u001b[0m \u001b[0mmxords\u001b[0m\u001b[0;34m,\u001b[0m\u001b[0;34m\u001b[0m\u001b[0;34m\u001b[0m\u001b[0m\n\u001b[0;32m--> 244\u001b[0;31m                              int(bool(tfirst)))\n\u001b[0m\u001b[1;32m    245\u001b[0m     \u001b[0;32mif\u001b[0m \u001b[0moutput\u001b[0m\u001b[0;34m[\u001b[0m\u001b[0;34m-\u001b[0m\u001b[0;36m1\u001b[0m\u001b[0;34m]\u001b[0m \u001b[0;34m<\u001b[0m \u001b[0;36m0\u001b[0m\u001b[0;34m:\u001b[0m\u001b[0;34m\u001b[0m\u001b[0;34m\u001b[0m\u001b[0m\n\u001b[1;32m    246\u001b[0m         \u001b[0mwarning_msg\u001b[0m \u001b[0;34m=\u001b[0m \u001b[0m_msgs\u001b[0m\u001b[0;34m[\u001b[0m\u001b[0moutput\u001b[0m\u001b[0;34m[\u001b[0m\u001b[0;34m-\u001b[0m\u001b[0;36m1\u001b[0m\u001b[0;34m]\u001b[0m\u001b[0;34m]\u001b[0m \u001b[0;34m+\u001b[0m \u001b[0;34m\" Run with full_output = 1 to get quantitative information.\"\u001b[0m\u001b[0;34m\u001b[0m\u001b[0;34m\u001b[0m\u001b[0m\n",
      "\u001b[0;32m<ipython-input-2-1cd3fe329b15>\u001b[0m in \u001b[0;36mxdot_v2\u001b[0;34m(x_vec, t, Kv, Ts)\u001b[0m\n\u001b[1;32m     25\u001b[0m     \u001b[0;31m#    else:\u001b[0m\u001b[0;34m\u001b[0m\u001b[0;34m\u001b[0m\u001b[0;34m\u001b[0m\u001b[0m\n\u001b[1;32m     26\u001b[0m     \u001b[0;31m#        ii=ii+1\u001b[0m\u001b[0;34m\u001b[0m\u001b[0;34m\u001b[0m\u001b[0;34m\u001b[0m\u001b[0m\n\u001b[0;32m---> 27\u001b[0;31m     \u001b[0mK\u001b[0m\u001b[0;34m=\u001b[0m\u001b[0mKv\u001b[0m\u001b[0;34m[\u001b[0m\u001b[0mnp\u001b[0m\u001b[0;34m.\u001b[0m\u001b[0mwhere\u001b[0m\u001b[0;34m(\u001b[0m\u001b[0mTs\u001b[0m\u001b[0;34m<=\u001b[0m\u001b[0mt\u001b[0m\u001b[0;34m)\u001b[0m\u001b[0;34m[\u001b[0m\u001b[0;36m0\u001b[0m\u001b[0;34m]\u001b[0m\u001b[0;34m[\u001b[0m\u001b[0;34m-\u001b[0m\u001b[0;36m1\u001b[0m\u001b[0;34m]\u001b[0m\u001b[0;34m]\u001b[0m\u001b[0;34m\u001b[0m\u001b[0;34m\u001b[0m\u001b[0m\n\u001b[0m\u001b[1;32m     28\u001b[0m     \u001b[0;31m#K = Kv[ii]\u001b[0m\u001b[0;34m\u001b[0m\u001b[0;34m\u001b[0m\u001b[0;34m\u001b[0m\u001b[0m\n\u001b[1;32m     29\u001b[0m     \u001b[0mg1\u001b[0m \u001b[0;34m=\u001b[0m \u001b[0mrm\u001b[0m\u001b[0;34m/\u001b[0m\u001b[0;34m(\u001b[0m\u001b[0mK\u001b[0m\u001b[0;34m[\u001b[0m\u001b[0;36m0\u001b[0m\u001b[0;34m,\u001b[0m\u001b[0;36m0\u001b[0m\u001b[0;34m]\u001b[0m\u001b[0;34m/\u001b[0m\u001b[0;34m(\u001b[0m\u001b[0;34m(\u001b[0m\u001b[0;36m1\u001b[0m \u001b[0;34m-\u001b[0m \u001b[0mF1\u001b[0m\u001b[0;34m)\u001b[0m\u001b[0;34m*\u001b[0m\u001b[0mn1\u001b[0m\u001b[0;34m)\u001b[0m \u001b[0;34m+\u001b[0m \u001b[0mn2\u001b[0m\u001b[0;34m/\u001b[0m\u001b[0mK\u001b[0m\u001b[0;34m[\u001b[0m\u001b[0;36m0\u001b[0m\u001b[0;34m,\u001b[0m\u001b[0;36m1\u001b[0m\u001b[0;34m]\u001b[0m\u001b[0;34m)\u001b[0m\u001b[0;34m\u001b[0m\u001b[0;34m\u001b[0m\u001b[0m\n",
      "\u001b[0;32m<__array_function__ internals>\u001b[0m in \u001b[0;36mwhere\u001b[0;34m(*args, **kwargs)\u001b[0m\n",
      "\u001b[0;31mKeyboardInterrupt\u001b[0m: "
     ]
    }
   ],
   "source": [
    "end_time = 1500 #length of simulation (4)\n",
    "time_points = end_time*100+1\n",
    "t=np.linspace(0,end_time,time_points)\n",
    "Reshuffle = np.array([0.2,2,20,200,2000])*time_points/end_time #time_points has to be divisible by reshuffle\n",
    "\n",
    "\n",
    "\n",
    "Sig = [1/10**i for i in range(2,10)]\n",
    "Num_of_surv=[]\n",
    "Num_of_surv_err = []\n",
    "sample_size = 100\n",
    "Num_of_sp = 5\n",
    "surviving_sp = [] # surviving_sp[Sig, Reshuffle, sample_size]\n",
    "\n",
    "data_size=1\n",
    "for sig in Sig:\n",
    "    print(sig)\n",
    "    surviving_sp_sig = []\n",
    "\n",
    "    for r in Reshuffle:\n",
    "        print(Reshuffle, r)\n",
    "        surviving_sp_r = []\n",
    "        Time_slice = np.arange(0,end_time, r/(time_points/end_time)) #bug end_time -> time_points\n",
    "        K_vary = [np.zeros((2,2)) for i in range(len(Time_slice))]\n",
    "        for sam in range(sample_size):\n",
    "            print(sam)\n",
    "            TooLarge = True\n",
    "            while (TooLarge):\n",
    "                init_cond = [0.3,0.3,0.3,0.3,0.3,a1,a2]\n",
    "                x0 = init_cond\n",
    "                delta_k = np.array([np.random.multivariate_normal([0,0],[[0,0],[0,0]],data_size).tolist()[0] for i in range(Num_of_sp)])\n",
    "                for i in range(len(K_vary)):\n",
    "                    allpositive = False\n",
    "                    while (not allpositive):\n",
    "#                         delta_k = np.array([np.random.multivariate_normal([0,0],[[sig*20,0],[0,sig*0.2]],data_size).tolist()[0] for i in range(Num_of_sp)])\n",
    "                        delta_k = np.array([np.random.multivariate_normal([0,0],[[sig,0],[0,sig]],data_size).tolist()[0] for i in range(Num_of_sp)])\n",
    "                        allpositive = np.all(K+delta_k>0)\n",
    "                    K_vary[i] = K+delta_k\n",
    "                \n",
    "\n",
    "                solution=odeint(xdot_v2,x0, t, args=(K_vary,Time_slice))\n",
    "             \n",
    "                for i in solution:\n",
    "                    TooLarge = any(i>10e5) or any(i<-0.1)\n",
    "                    if(TooLarge):\n",
    "                        break\n",
    "\n",
    "            surviving_sp_r.append(survive_sp(solution[-1,0:5],10e-5))\n",
    "\n",
    "            \n",
    "        surviving_sp_sig.append(surviving_sp_r)\n",
    "    surviving_sp.append(surviving_sp_sig)\n",
    "    \n",
    "surviving_sp=np.array(surviving_sp)\n",
    "            "
   ]
  },
  {
   "cell_type": "code",
   "execution_count": null,
   "metadata": {
    "collapsed": true
   },
   "outputs": [],
   "source": [
    "surv_Res_mean = [[np.sum(i)/ len(i)for i in surviving_sp[:,int(res),:]] for res in range(len(Reshuffle))]\n",
    "surv_Res_err = [[np.std(i,ddof=1)/ np.sqrt(len(i)) for i in surviving_sp[:,int(res),:]] for res in range(len(Reshuffle))]"
   ]
  },
  {
   "cell_type": "code",
   "execution_count": null,
   "metadata": {
    "collapsed": true
   },
   "outputs": [],
   "source": [
    "surv_Res_mean"
   ]
  },
  {
   "cell_type": "code",
   "execution_count": 8,
   "metadata": {
    "collapsed": true
   },
   "outputs": [],
   "source": [
    "# np.savetxt(\"noise_in_k_kixed_period_2_data_copy1.txt\",surv_Res_mean)\n",
    "# np.savetxt(\"noise_in_k_kixed_period_2_data_copy1.txt\",surv_Res_err)"
   ]
  },
  {
   "cell_type": "code",
   "execution_count": 16,
   "metadata": {
    "collapsed": true
   },
   "outputs": [],
   "source": [
    "x = np.loadtxt(\"noise_in_k_kixed_period_2_data_copy1_mean.txt\")\n",
    "ex = np.loadtxt(\"noise_in_k_kixed_period_2_data_copy1_err.txt\")"
   ]
  },
  {
   "cell_type": "code",
   "execution_count": 20,
   "metadata": {
    "collapsed": true
   },
   "outputs": [],
   "source": [
    "plt.rcParams['font.size'] = 18\n",
    "plt.rcParams['font.family']='Times New Roman'"
   ]
  },
  {
   "cell_type": "code",
   "execution_count": 23,
   "metadata": {},
   "outputs": [
    {
     "data": {
      "image/png": "[encoded data removed]",
      "text/plain": [
       "<Figure size 432x288 with 1 Axes>"
      ]
     },
     "metadata": {
      "needs_background": "light"
     },
     "output_type": "display_data"
    }
   ],
   "source": [
    "for i in range(5):\n",
    "    plt.errorbar(np.sqrt(Sig)/np.mean(K[:,1]),x[i],yerr=ex[i])\n",
    "\n",
    "plt.legend([r'$\\tau=$'+str(round(0.2/0.67,1))+r'$\\tau_D$',r'$\\tau=$'+str(round(2/0.67,1))+r'$\\tau_D$',r'$\\tau=$'+str(round(20/0.67,1))+r'$\\tau_D$',r'$\\tau=$'+str(round(200/0.67,1))+r'$\\tau_D$','constant'])\n",
    "plt.legend([r'$\\tau=$'+str(round(0.2/0.67,1))+r'$\\tau_D$',r'$\\tau=$'+str(round(2/0.67,1))+r'$\\tau_D$',r'$\\tau=$'+str(30.0)+r'$\\tau_D$',r'$\\tau=$'+str(300)+r'$\\tau_D$','constant'])\n",
    "\n",
    "plt.plot(np.sqrt(Sig)/np.mean(K[:,1]),[2 for i in Sig],'r--')\n",
    "\n",
    "plt.ylabel('Number of surviving species')\n",
    "plt.xlabel(r'noise $\\sigma/<k_T^{(i)}>$')\n",
    "default_x_ticks = range(len(np.log10(np.sqrt(Sig)/np.mean(K[:,1]))))\n",
    "plt.xticks(np.sqrt(Sig)/np.mean(K[:,1]),[0,2,3,4,5,6,7,8])\n",
    "plt.xscale('log',base=10)\n",
    "\n",
    "plt.gca().set_aspect('auto')\n",
    "\n",
    "plt.tight_layout()\n",
    "# plt.savefig('Fig_5b_modified.pdf')\n"
   ]
  },
  {
   "cell_type": "code",
   "execution_count": null,
   "metadata": {
    "collapsed": true
   },
   "outputs": [],
   "source": []
  }
 ],
 "metadata": {
  "kernelspec": {
   "display_name": "Python 3",
   "language": "python",
   "name": "python3"
  },
  "language_info": {
   "codemirror_mode": {
    "name": "ipython",
    "version": 3
   },
   "file_extension": ".py",
   "mimetype": "text/x-python",
   "name": "python",
   "nbconvert_exporter": "python",
   "pygments_lexer": "ipython3",
   "version": "3.6.9"
  }
 },
 "nbformat": 4,
 "nbformat_minor": 2
}
